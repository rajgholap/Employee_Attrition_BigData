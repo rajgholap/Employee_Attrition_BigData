{
 "cells": [
  {
   "cell_type": "code",
   "execution_count": 1,
   "id": "50d85145",
   "metadata": {},
   "outputs": [],
   "source": [
    "from pyspark import SparkFiles\n",
    "from pyspark.sql import SparkSession\n",
    "from pyspark.sql import types as T\n",
    "from pyspark.sql import Row\n",
    "from pyspark.sql.functions import col,isnan, when, count\n",
    "import pyspark.sql.functions as F\n",
    "from pyspark.ml.feature import *\n",
    "import warnings\n",
    "warnings.filterwarnings(\"ignore\")\n",
    "import findspark\n",
    "findspark.init()"
   ]
  },
  {
   "cell_type": "code",
   "execution_count": 2,
   "id": "ca948e9c",
   "metadata": {},
   "outputs": [],
   "source": [
    "from pyspark.sql import SparkSession\n",
    "from pyspark.sql import SparkSession, SQLContext\n",
    "from pyspark import SparkConf, SparkContext"
   ]
  },
  {
   "cell_type": "code",
   "execution_count": 3,
   "id": "d008d65e",
   "metadata": {},
   "outputs": [],
   "source": [
    "#Machine Learning Data\n",
    "inp=\"mongodb://127.0.0.1/Project.mldata\"\n",
    "outp=\"mongodb://127.0.0.1/Project.mldata\""
   ]
  },
  {
   "cell_type": "code",
   "execution_count": 4,
   "id": "7db0f0f6",
   "metadata": {},
   "outputs": [],
   "source": [
    "#Visualization Data\n",
    "inp=\"mongodb://127.0.0.1/Project.OriData\"\n",
    "outp=\"mongodb://127.0.0.1/Project.OriData\""
   ]
  },
  {
   "cell_type": "code",
   "execution_count": 5,
   "id": "367aebe2",
   "metadata": {},
   "outputs": [],
   "source": [
    "spark=SparkSession\\\n",
    "        .builder\\\n",
    "        .appName(\"EmployeeAttrition\")\\\n",
    "        .config(\"spark.mongodb.input.uri\",inp)\\\n",
    "        .config(\"spark.mongodb.output.uri\",outp)\\\n",
    "        .config(\"spark.jars.packages\",\"org.mongodb.spark:mongo-spark-connector_2.12:2.4.2\")\\\n",
    "        .getOrCreate()"
   ]
  },
  {
   "cell_type": "code",
   "execution_count": 6,
   "id": "e8cca134",
   "metadata": {},
   "outputs": [],
   "source": [
    "url = \"https://raw.githubusercontent.com/some1damaged/employee_attrition/main/HR_Employee_Attrition_Dataset.csv\"\n",
    "spark.sparkContext.addFile(url)"
   ]
  },
  {
   "cell_type": "code",
   "execution_count": 7,
   "id": "226ca7f7",
   "metadata": {},
   "outputs": [
    {
     "name": "stdout",
     "output_type": "stream",
     "text": [
      "+--------------+---------+---+-----------------+---------+--------------------+----------------+---------+--------------+-----------------------+------+----------+--------------+--------+--------------------+---------------+-------------+-------------+-----------+------------------+------+--------+-----------------+-----------------+------------------------+-------------+----------------+-----------------+---------------------+---------------+--------------+------------------+-----------------------+--------------------+\n",
      "|EmployeeNumber|Attrition|Age|   BusinessTravel|DailyRate|          Department|DistanceFromHome|Education|EducationField|EnvironmentSatisfaction|Gender|HourlyRate|JobInvolvement|JobLevel|             JobRole|JobSatisfaction|MaritalStatus|MonthlyIncome|MonthlyRate|NumCompaniesWorked|Over18|OverTime|PercentSalaryHike|PerformanceRating|RelationshipSatisfaction|StandardHours|StockOptionLevel|TotalWorkingYears|TrainingTimesLastYear|WorkLifeBalance|YearsAtCompany|YearsInCurrentRole|YearsSinceLastPromotion|YearsWithCurrManager|\n",
      "+--------------+---------+---+-----------------+---------+--------------------+----------------+---------+--------------+-----------------------+------+----------+--------------+--------+--------------------+---------------+-------------+-------------+-----------+------------------+------+--------+-----------------+-----------------+------------------------+-------------+----------------+-----------------+---------------------+---------------+--------------+------------------+-----------------------+--------------------+\n",
      "|             1|      Yes| 41|    Travel_Rarely|     1102|               Sales|               1|        2| Life Sciences|                      2|Female|        94|             3|       2|     Sales Executive|              4|       Single|         5993|      19479|                 8|     Y|     Yes|               11|                3|                       1|           80|               0|                8|                    0|              1|             6|                 4|                      0|                   5|\n",
      "|             2|       No| 49|Travel_Frequently|      279|Research & Develo...|               8|        1| Life Sciences|                      3|  Male|        61|             2|       2|  Research Scientist|              2|      Married|         5130|      24907|                 1|     Y|      No|               23|                4|                       4|           80|               1|               10|                    3|              3|            10|                 7|                      1|                   7|\n",
      "|             3|      Yes| 37|    Travel_Rarely|     1373|Research & Develo...|               2|        2|         Other|                      4|  Male|        92|             2|       1|Laboratory Techni...|              3|       Single|         2090|       2396|                 6|     Y|     Yes|               15|                3|                       2|           80|               0|                7|                    3|              3|             0|                 0|                      0|                   0|\n",
      "|             4|       No| 33|Travel_Frequently|     1392|Research & Develo...|               3|        4| Life Sciences|                      4|Female|        56|             3|       1|  Research Scientist|              3|      Married|         2909|      23159|                 1|     Y|     Yes|               11|                3|                       3|           80|               0|                8|                    3|              3|             8|                 7|                      3|                   0|\n",
      "|             5|       No| 27|    Travel_Rarely|      591|Research & Develo...|               2|        1|       Medical|                      1|  Male|        40|             3|       1|Laboratory Techni...|              2|      Married|         3468|      16632|                 9|     Y|      No|               12|                3|                       4|           80|               1|                6|                    3|              3|             2|                 2|                      2|                   2|\n",
      "+--------------+---------+---+-----------------+---------+--------------------+----------------+---------+--------------+-----------------------+------+----------+--------------+--------+--------------------+---------------+-------------+-------------+-----------+------------------+------+--------+-----------------+-----------------+------------------------+-------------+----------------+-----------------+---------------------+---------------+--------------+------------------+-----------------------+--------------------+\n",
      "only showing top 5 rows\n",
      "\n"
     ]
    }
   ],
   "source": [
    "rawdf = spark.read.option(\"header\" ,\"true\").option(\"inferSchema\",True).csv(SparkFiles.get(\"HR_Employee_Attrition_Dataset.csv\"))\n",
    "rawdf.show(5)"
   ]
  },
  {
   "cell_type": "code",
   "execution_count": 8,
   "id": "48a14576",
   "metadata": {},
   "outputs": [
    {
     "name": "stdout",
     "output_type": "stream",
     "text": [
      "root\n",
      " |-- EmployeeNumber: integer (nullable = true)\n",
      " |-- Attrition: string (nullable = true)\n",
      " |-- Age: integer (nullable = true)\n",
      " |-- BusinessTravel: string (nullable = true)\n",
      " |-- DailyRate: integer (nullable = true)\n",
      " |-- Department: string (nullable = true)\n",
      " |-- DistanceFromHome: integer (nullable = true)\n",
      " |-- Education: integer (nullable = true)\n",
      " |-- EducationField: string (nullable = true)\n",
      " |-- EnvironmentSatisfaction: integer (nullable = true)\n",
      " |-- Gender: string (nullable = true)\n",
      " |-- HourlyRate: integer (nullable = true)\n",
      " |-- JobInvolvement: integer (nullable = true)\n",
      " |-- JobLevel: integer (nullable = true)\n",
      " |-- JobRole: string (nullable = true)\n",
      " |-- JobSatisfaction: integer (nullable = true)\n",
      " |-- MaritalStatus: string (nullable = true)\n",
      " |-- MonthlyIncome: integer (nullable = true)\n",
      " |-- MonthlyRate: integer (nullable = true)\n",
      " |-- NumCompaniesWorked: integer (nullable = true)\n",
      " |-- Over18: string (nullable = true)\n",
      " |-- OverTime: string (nullable = true)\n",
      " |-- PercentSalaryHike: integer (nullable = true)\n",
      " |-- PerformanceRating: integer (nullable = true)\n",
      " |-- RelationshipSatisfaction: integer (nullable = true)\n",
      " |-- StandardHours: integer (nullable = true)\n",
      " |-- StockOptionLevel: integer (nullable = true)\n",
      " |-- TotalWorkingYears: integer (nullable = true)\n",
      " |-- TrainingTimesLastYear: integer (nullable = true)\n",
      " |-- WorkLifeBalance: integer (nullable = true)\n",
      " |-- YearsAtCompany: integer (nullable = true)\n",
      " |-- YearsInCurrentRole: integer (nullable = true)\n",
      " |-- YearsSinceLastPromotion: integer (nullable = true)\n",
      " |-- YearsWithCurrManager: integer (nullable = true)\n",
      "\n"
     ]
    }
   ],
   "source": [
    "rawdf.printSchema()"
   ]
  },
  {
   "cell_type": "code",
   "execution_count": 9,
   "id": "5928fd58",
   "metadata": {},
   "outputs": [
    {
     "name": "stdout",
     "output_type": "stream",
     "text": [
      "+--------------+---------+---+--------------+---------+----------+----------------+---------+--------------+-----------------------+------+----------+--------------+--------+-------+---------------+-------------+-------------+-----------+------------------+------+--------+-----------------+-----------------+------------------------+-------------+----------------+-----------------+---------------------+---------------+--------------+------------------+-----------------------+--------------------+\n",
      "|EmployeeNumber|Attrition|Age|BusinessTravel|DailyRate|Department|DistanceFromHome|Education|EducationField|EnvironmentSatisfaction|Gender|HourlyRate|JobInvolvement|JobLevel|JobRole|JobSatisfaction|MaritalStatus|MonthlyIncome|MonthlyRate|NumCompaniesWorked|Over18|OverTime|PercentSalaryHike|PerformanceRating|RelationshipSatisfaction|StandardHours|StockOptionLevel|TotalWorkingYears|TrainingTimesLastYear|WorkLifeBalance|YearsAtCompany|YearsInCurrentRole|YearsSinceLastPromotion|YearsWithCurrManager|\n",
      "+--------------+---------+---+--------------+---------+----------+----------------+---------+--------------+-----------------------+------+----------+--------------+--------+-------+---------------+-------------+-------------+-----------+------------------+------+--------+-----------------+-----------------+------------------------+-------------+----------------+-----------------+---------------------+---------------+--------------+------------------+-----------------------+--------------------+\n",
      "|             0|        0|  0|             0|        0|         0|               0|        0|             0|                      0|     0|         0|             0|       0|      0|              0|            0|            0|          0|                 0|     0|       0|                0|                0|                       0|            0|               0|                0|                    0|              0|             0|                 0|                      0|                   0|\n",
      "+--------------+---------+---+--------------+---------+----------+----------------+---------+--------------+-----------------------+------+----------+--------------+--------+-------+---------------+-------------+-------------+-----------+------------------+------+--------+-----------------+-----------------+------------------------+-------------+----------------+-----------------+---------------------+---------------+--------------+------------------+-----------------------+--------------------+\n",
      "\n"
     ]
    }
   ],
   "source": [
    "#Checking for null values\n",
    "rawdf.select([count(when(isnan(c) | col(c).isNull(), c)).alias(c) for c in rawdf.columns]).show()"
   ]
  },
  {
   "cell_type": "code",
   "execution_count": 10,
   "id": "ed197673",
   "metadata": {},
   "outputs": [],
   "source": [
    "rawdropdf=rawdf.drop(\"EmployeeNumber\",\"Over18\",\"StandardHours\")"
   ]
  },
  {
   "cell_type": "code",
   "execution_count": 11,
   "id": "ce118e4a",
   "metadata": {},
   "outputs": [
    {
     "name": "stdout",
     "output_type": "stream",
     "text": [
      "+---------+---+--------------+---------+----------+----------------+---------+--------------+-----------------------+------+----------+--------------+--------+---------------+---------------+-------------+-------------+-----------+------------------+--------+-----------------+-----------------+------------------------+----------------+-----------------+---------------------+---------------+--------------+------------------+-----------------------+--------------------+\n",
      "|Attrition|Age|BusinessTravel|DailyRate|Department|DistanceFromHome|Education|EducationField|EnvironmentSatisfaction|Gender|HourlyRate|JobInvolvement|JobLevel|        JobRole|JobSatisfaction|MaritalStatus|MonthlyIncome|MonthlyRate|NumCompaniesWorked|OverTime|PercentSalaryHike|PerformanceRating|RelationshipSatisfaction|StockOptionLevel|TotalWorkingYears|TrainingTimesLastYear|WorkLifeBalance|YearsAtCompany|YearsInCurrentRole|YearsSinceLastPromotion|YearsWithCurrManager|\n",
      "+---------+---+--------------+---------+----------+----------------+---------+--------------+-----------------------+------+----------+--------------+--------+---------------+---------------+-------------+-------------+-----------+------------------+--------+-----------------+-----------------+------------------------+----------------+-----------------+---------------------+---------------+--------------+------------------+-----------------------+--------------------+\n",
      "|      Yes| 41| Travel_Rarely|     1102|     Sales|               1|        2| Life Sciences|                      2|Female|        94|             3|       2|Sales Executive|              4|       Single|         5993|      19479|                 8|     Yes|               11|                3|                       1|               0|                8|                    0|              1|             6|                 4|                      0|                   5|\n",
      "+---------+---+--------------+---------+----------+----------------+---------+--------------+-----------------------+------+----------+--------------+--------+---------------+---------------+-------------+-------------+-----------+------------------+--------+-----------------+-----------------+------------------------+----------------+-----------------+---------------------+---------------+--------------+------------------+-----------------------+--------------------+\n",
      "only showing top 1 row\n",
      "\n"
     ]
    }
   ],
   "source": [
    "rawdropdf.show(1)"
   ]
  },
  {
   "cell_type": "markdown",
   "id": "aea2d125",
   "metadata": {},
   "source": [
    "## Dealing with categorical columns"
   ]
  },
  {
   "cell_type": "code",
   "execution_count": 14,
   "id": "f7b18138",
   "metadata": {},
   "outputs": [],
   "source": [
    "#Fetching distinct values\n",
    "attrition_type = rawdropdf.select('Attrition').distinct().rdd.flatMap(lambda x: x).collect()\n",
    "businessTravel_type = rawdropdf.select('BusinessTravel').distinct().rdd.flatMap(lambda x: x).collect()\n",
    "department_type = rawdropdf.select('Department').distinct().rdd.flatMap(lambda x: x).collect()\n",
    "educationField_type = rawdropdf.select('EducationField').distinct().rdd.flatMap(lambda x: x).collect()\n",
    "gender_type = rawdropdf.select('Gender').distinct().rdd.flatMap(lambda x: x).collect()\n",
    "jobRole_type = rawdropdf.select('JobRole').distinct().rdd.flatMap(lambda x: x).collect()\n",
    "maritalStatus_type = rawdropdf.select('MaritalStatus').distinct().rdd.flatMap(lambda x: x).collect()\n",
    "overTime_type = rawdropdf.select('OverTime').distinct().rdd.flatMap(lambda x: x).collect()\n",
    "\n",
    "#Filtering using list comprehension\n",
    "types_expr = [F.when(F.col('Attrition') == attr, 1).otherwise(0).alias(\"Attrition_\" + attr) for attr in attrition_type]\n",
    "businesstypes_expr = [F.when(F.col('BusinessTravel') == travel, 1).otherwise(0).alias(\"BusinessTravel_\" + travel) for travel in businessTravel_type]\n",
    "department_expr = [F.when(F.col('Department') == dept, 1).otherwise(0).alias(\"Department_\" + dept) for dept in department_type]\n",
    "educationField_expr = [F.when(F.col('EducationField') == field, 1).otherwise(0).alias(\"EducationField_\" + field) for field in educationField_type]\n",
    "gender_expr = [F.when(F.col('Gender') == gen, 1).otherwise(0).alias(\"Gender_\" + gen) for gen in gender_type]\n",
    "jobRole_expr = [F.when(F.col('JobRole') == job, 1).otherwise(0).alias(\"JobRole_\" + job) for job in jobRole_type]\n",
    "maritalStatus_expr = [F.when(F.col('MaritalStatus') == status, 1).otherwise(0).alias(\"MaritalStatus_\" + status) for status in maritalStatus_type]\n",
    "overTime_expr = [F.when(F.col('OverTime') == over, 1).otherwise(0).alias(\"OverTime_\" + over) for over in overTime_type]\n",
    "\n",
    "ml_df=rawdropdf.select('*',*types_expr+businesstypes_expr+department_expr+educationField_expr+gender_expr+jobRole_expr+maritalStatus_expr+overTime_expr)"
   ]
  },
  {
   "cell_type": "code",
   "execution_count": 15,
   "id": "3a206429",
   "metadata": {},
   "outputs": [],
   "source": [
    "mlnew_df = ml_df.drop('OverTime_No','Attrition_No','Gender_Male','Attrition','BusinessTravel','Department','EducationField','Gender','JobRole','MaritalStatus','OverTime')"
   ]
  },
  {
   "cell_type": "code",
   "execution_count": 16,
   "id": "8ada9d4a",
   "metadata": {},
   "outputs": [
    {
     "name": "stdout",
     "output_type": "stream",
     "text": [
      "+---+---------+----------------+---------+-----------------------+----------+--------------+--------+---------------+-------------+-----------+------------------+-----------------+-----------------+------------------------+----------------+-----------------+---------------------+---------------+--------------+------------------+-----------------------+--------------------+-------------+--------------------------------+-------------------------+----------------------------+----------------+---------------------------------+--------------------------+-------------------------------+--------------------+------------------------+----------------------+----------------------------+------------------------------+-------------+-----------------------+------------------------------+-----------------------------+----------------------------+---------------------------------+--------------------------+---------------+-------------------------+-----------------------+---------------------+----------------------+--------------------+------------+\n",
      "|Age|DailyRate|DistanceFromHome|Education|EnvironmentSatisfaction|HourlyRate|JobInvolvement|JobLevel|JobSatisfaction|MonthlyIncome|MonthlyRate|NumCompaniesWorked|PercentSalaryHike|PerformanceRating|RelationshipSatisfaction|StockOptionLevel|TotalWorkingYears|TrainingTimesLastYear|WorkLifeBalance|YearsAtCompany|YearsInCurrentRole|YearsSinceLastPromotion|YearsWithCurrManager|Attrition_Yes|BusinessTravel_Travel_Frequently|BusinessTravel_Non-Travel|BusinessTravel_Travel_Rarely|Department_Sales|Department_Research & Development|Department_Human Resources|EducationField_Technical Degree|EducationField_Other|EducationField_Marketing|EducationField_Medical|EducationField_Life Sciences|EducationField_Human Resources|Gender_Female|JobRole_Sales Executive|JobRole_Manufacturing Director|JobRole_Laboratory Technician|JobRole_Sales Representative|JobRole_Healthcare Representative|JobRole_Research Scientist|JobRole_Manager|JobRole_Research Director|JobRole_Human Resources|MaritalStatus_Married|MaritalStatus_Divorced|MaritalStatus_Single|OverTime_Yes|\n",
      "+---+---------+----------------+---------+-----------------------+----------+--------------+--------+---------------+-------------+-----------+------------------+-----------------+-----------------+------------------------+----------------+-----------------+---------------------+---------------+--------------+------------------+-----------------------+--------------------+-------------+--------------------------------+-------------------------+----------------------------+----------------+---------------------------------+--------------------------+-------------------------------+--------------------+------------------------+----------------------+----------------------------+------------------------------+-------------+-----------------------+------------------------------+-----------------------------+----------------------------+---------------------------------+--------------------------+---------------+-------------------------+-----------------------+---------------------+----------------------+--------------------+------------+\n",
      "| 41|     1102|               1|        2|                      2|        94|             3|       2|              4|         5993|      19479|                 8|               11|                3|                       1|               0|                8|                    0|              1|             6|                 4|                      0|                   5|            1|                               0|                        0|                           1|               1|                                0|                         0|                              0|                   0|                       0|                     0|                           1|                             0|            1|                      1|                             0|                            0|                           0|                                0|                         0|              0|                        0|                      0|                    0|                     0|                   1|           1|\n",
      "+---+---------+----------------+---------+-----------------------+----------+--------------+--------+---------------+-------------+-----------+------------------+-----------------+-----------------+------------------------+----------------+-----------------+---------------------+---------------+--------------+------------------+-----------------------+--------------------+-------------+--------------------------------+-------------------------+----------------------------+----------------+---------------------------------+--------------------------+-------------------------------+--------------------+------------------------+----------------------+----------------------------+------------------------------+-------------+-----------------------+------------------------------+-----------------------------+----------------------------+---------------------------------+--------------------------+---------------+-------------------------+-----------------------+---------------------+----------------------+--------------------+------------+\n",
      "only showing top 1 row\n",
      "\n"
     ]
    }
   ],
   "source": [
    "mlnew_df.show(1)"
   ]
  },
  {
   "cell_type": "code",
   "execution_count": 17,
   "id": "d6c0c08d",
   "metadata": {},
   "outputs": [
    {
     "name": "stdout",
     "output_type": "stream",
     "text": [
      "root\n",
      " |-- Age: integer (nullable = true)\n",
      " |-- DailyRate: integer (nullable = true)\n",
      " |-- DistanceFromHome: integer (nullable = true)\n",
      " |-- Education: integer (nullable = true)\n",
      " |-- EnvironmentSatisfaction: integer (nullable = true)\n",
      " |-- HourlyRate: integer (nullable = true)\n",
      " |-- JobInvolvement: integer (nullable = true)\n",
      " |-- JobLevel: integer (nullable = true)\n",
      " |-- JobSatisfaction: integer (nullable = true)\n",
      " |-- MonthlyIncome: integer (nullable = true)\n",
      " |-- MonthlyRate: integer (nullable = true)\n",
      " |-- NumCompaniesWorked: integer (nullable = true)\n",
      " |-- PercentSalaryHike: integer (nullable = true)\n",
      " |-- PerformanceRating: integer (nullable = true)\n",
      " |-- RelationshipSatisfaction: integer (nullable = true)\n",
      " |-- StockOptionLevel: integer (nullable = true)\n",
      " |-- TotalWorkingYears: integer (nullable = true)\n",
      " |-- TrainingTimesLastYear: integer (nullable = true)\n",
      " |-- WorkLifeBalance: integer (nullable = true)\n",
      " |-- YearsAtCompany: integer (nullable = true)\n",
      " |-- YearsInCurrentRole: integer (nullable = true)\n",
      " |-- YearsSinceLastPromotion: integer (nullable = true)\n",
      " |-- YearsWithCurrManager: integer (nullable = true)\n",
      " |-- Attrition_Yes: integer (nullable = false)\n",
      " |-- BusinessTravel_Travel_Frequently: integer (nullable = false)\n",
      " |-- BusinessTravel_Non-Travel: integer (nullable = false)\n",
      " |-- BusinessTravel_Travel_Rarely: integer (nullable = false)\n",
      " |-- Department_Sales: integer (nullable = false)\n",
      " |-- Department_Research & Development: integer (nullable = false)\n",
      " |-- Department_Human Resources: integer (nullable = false)\n",
      " |-- EducationField_Technical Degree: integer (nullable = false)\n",
      " |-- EducationField_Other: integer (nullable = false)\n",
      " |-- EducationField_Marketing: integer (nullable = false)\n",
      " |-- EducationField_Medical: integer (nullable = false)\n",
      " |-- EducationField_Life Sciences: integer (nullable = false)\n",
      " |-- EducationField_Human Resources: integer (nullable = false)\n",
      " |-- Gender_Female: integer (nullable = false)\n",
      " |-- JobRole_Sales Executive: integer (nullable = false)\n",
      " |-- JobRole_Manufacturing Director: integer (nullable = false)\n",
      " |-- JobRole_Laboratory Technician: integer (nullable = false)\n",
      " |-- JobRole_Sales Representative: integer (nullable = false)\n",
      " |-- JobRole_Healthcare Representative: integer (nullable = false)\n",
      " |-- JobRole_Research Scientist: integer (nullable = false)\n",
      " |-- JobRole_Manager: integer (nullable = false)\n",
      " |-- JobRole_Research Director: integer (nullable = false)\n",
      " |-- JobRole_Human Resources: integer (nullable = false)\n",
      " |-- MaritalStatus_Married: integer (nullable = false)\n",
      " |-- MaritalStatus_Divorced: integer (nullable = false)\n",
      " |-- MaritalStatus_Single: integer (nullable = false)\n",
      " |-- OverTime_Yes: integer (nullable = false)\n",
      "\n"
     ]
    }
   ],
   "source": [
    "mlnew_df.printSchema()"
   ]
  },
  {
   "cell_type": "markdown",
   "id": "e9e1be4f",
   "metadata": {},
   "source": [
    "# Loading data into mongodb"
   ]
  },
  {
   "cell_type": "code",
   "execution_count": 18,
   "id": "02bae381",
   "metadata": {},
   "outputs": [],
   "source": [
    "rawdropdf.write.format(\"com.mongodb.spark.sql.DefaultSource\").option(\"database\",\"Project\").option(\"collection\", \"OriData\").save()"
   ]
  },
  {
   "cell_type": "code",
   "execution_count": 19,
   "id": "565ef376",
   "metadata": {},
   "outputs": [],
   "source": [
    "mlnew_df.write.format(\"com.mongodb.spark.sql.DefaultSource\").option(\"database\",\"Project\").option(\"collection\", \"mldata\").save()"
   ]
  }
 ],
 "metadata": {
  "kernelspec": {
   "display_name": "Python 3",
   "language": "python",
   "name": "python3"
  },
  "language_info": {
   "codemirror_mode": {
    "name": "ipython",
    "version": 3
   },
   "file_extension": ".py",
   "mimetype": "text/x-python",
   "name": "python",
   "nbconvert_exporter": "python",
   "pygments_lexer": "ipython3",
   "version": "3.8.8"
  }
 },
 "nbformat": 4,
 "nbformat_minor": 5
}
